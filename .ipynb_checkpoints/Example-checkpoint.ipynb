{
 "cells": [
  {
   "cell_type": "markdown",
   "metadata": {},
   "source": [
    "# selec2.py\n",
    "\n",
    "If you want to reproduce the notebook. Some variable should be replaced to your local path. For example, \n",
    "the path depositing avalible Victoria2 save game files.\n",
    "These save game files are large, I don't want to upload on GitHub.\n",
    "you can get a 100 years file sequence on [this](http://yun.baidu.com/share/link?shareid=3973245894&uk=1426064435)\n",
    "but I am not responsible for the persistence.\n"
   ]
  },
  {
   "cell_type": "code",
   "execution_count": 1,
   "metadata": {
    "collapsed": true
   },
   "outputs": [],
   "source": [
    "from script.select2 import parse"
   ]
  },
  {
   "cell_type": "code",
   "execution_count": 2,
   "metadata": {
    "collapsed": true
   },
   "outputs": [],
   "source": [
    "%load_ext autoreload\n",
    "%autoreload 2"
   ]
  },
  {
   "cell_type": "code",
   "execution_count": 3,
   "metadata": {
    "collapsed": false
   },
   "outputs": [],
   "source": [
    "\n",
    "fname=\"'../Victoria 2/save games/Korea1854_01_10.v2\" #you need a new Vic2 save game file path to run it\n",
    "rd=parse(fname)"
   ]
  },
  {
   "cell_type": "code",
   "execution_count": 4,
   "metadata": {
    "collapsed": false
   },
   "outputs": [
    {
     "data": {
      "text/plain": [
       "dict_keys(['building', 'country', 'pop', 'state', 'province', 'worldmarket'])"
      ]
     },
     "execution_count": 4,
     "metadata": {},
     "output_type": "execute_result"
    }
   ],
   "source": [
    "rd.keys()"
   ]
  },
  {
   "cell_type": "code",
   "execution_count": 6,
   "metadata": {
    "collapsed": false
   },
   "outputs": [
    {
     "data": {
      "text/plain": [
       "('970',\n",
       " {'_index': 514509,\n",
       "  'artisans': ('block', [514517, 514588, 514643, 514697]),\n",
       "  'clergymen': ('block', [514753, 514806, 514842]),\n",
       "  'controller': '\"RUS\"',\n",
       "  'core': '\"UKR\"',\n",
       "  'farmers': ('block', [514878, 514914, 514951, 514988, 515024, 515061]),\n",
       "  'garrison': 100.0,\n",
       "  'id': '970',\n",
       "  'last_imigration': '\"1851.10.21\"',\n",
       "  'life_rating': 35,\n",
       "  'name': '\"Nikolaev\"',\n",
       "  'officers': ('block', 515114),\n",
       "  'owner': '\"RUS\"',\n",
       "  'pop': [24560,\n",
       "   24569,\n",
       "   24574,\n",
       "   24582,\n",
       "   24559,\n",
       "   24573,\n",
       "   24581,\n",
       "   24562,\n",
       "   24567,\n",
       "   24571,\n",
       "   24576,\n",
       "   24580,\n",
       "   24584,\n",
       "   29249,\n",
       "   24561,\n",
       "   24575],\n",
       "  'rgo': ('block', 515246),\n",
       "  'soldiers': ('block', [515153, 515210]),\n",
       "  'state': '680'})"
      ]
     },
     "execution_count": 6,
     "metadata": {},
     "output_type": "execute_result"
    }
   ],
   "source": [
    "list(rd['province'].items())[0]"
   ]
  },
  {
   "cell_type": "code",
   "execution_count": 8,
   "metadata": {
    "collapsed": false,
    "scrolled": false
   },
   "outputs": [
    {
     "data": {
      "text/plain": [
       "('SOK',\n",
       " {'ABU': ('block', 1503222),\n",
       "  'AFG': ('block', 1503226),\n",
       "  'ALD': ('block', 1503182),\n",
       "  'ARG': ('block', 1503442),\n",
       "  'ATJ': ('block', 1503354),\n",
       "  'AUS': ('block', 1503062),\n",
       "  'AWA': ('block', 1503262),\n",
       "  'BAD': ('block', 1503098),\n",
       "  'BAS': ('block', 1503266),\n",
       "  'BAV': ('block', 1503102),\n",
       "  'BEL': ('block', 1503082),\n",
       "  'BER': ('block', 1503270),\n",
       "  'BHO': ('block', 1503274),\n",
       "  'BHU': ('block', 1503358),\n",
       "  'BIK': ('block', 1503278),\n",
       "  'BOL': ('block', 1503446),\n",
       "  'BRU': ('block', 1503362),\n",
       "  'BRZ': ('block', 1503450),\n",
       "  'BUK': ('block', 1503230),\n",
       "  'BUN': ('block', 1503282),\n",
       "  'BUR': ('block', 1503366),\n",
       "  'CAM': ('block', 1503370),\n",
       "  'CHI': ('block', 1503374),\n",
       "  'CHL': ('block', 1503454),\n",
       "  'CLM': ('block', 1503458),\n",
       "  'DAI': ('block', 1503378),\n",
       "  'DEN': ('block', 1503074),\n",
       "  'ECU': ('block', 1503462),\n",
       "  'EGY': ('block', 1503186),\n",
       "  'ENG': ('block', 1503050),\n",
       "  'ETH': ('block', 1503190),\n",
       "  'FRA': ('block', 1503058),\n",
       "  'GRE': ('block', 1503154),\n",
       "  'GWA': ('block', 1503286),\n",
       "  'GXI': ('block', 1503410),\n",
       "  'HAI': ('block', 1503426),\n",
       "  'HAW': ('block', 1503430),\n",
       "  'HDJ': ('block', 1503234),\n",
       "  'HYD': ('block', 1503290),\n",
       "  'IND': ('block', 1503294),\n",
       "  'ION': ('block', 1503158),\n",
       "  'JAI': ('block', 1503298),\n",
       "  'JAP': ('block', 1503070),\n",
       "  'JAS': ('block', 1503302),\n",
       "  'JOD': ('block', 1503306),\n",
       "  'JOH': ('block', 1503390),\n",
       "  'KAL': ('block', 1503310),\n",
       "  'KHI': ('block', 1503238),\n",
       "  'KOK': ('block', 1503242),\n",
       "  'KOR': ('block', 1503382),\n",
       "  'KRA': ('block', 1503146),\n",
       "  'KUT': ('block', 1503314),\n",
       "  'LIB': ('block', 1503198),\n",
       "  'LUA': ('block', 1503386),\n",
       "  'LUC': ('block', 1503118),\n",
       "  'LUX': ('block', 1503106),\n",
       "  'MAD': ('block', 1503194),\n",
       "  'MAK': ('block', 1503318),\n",
       "  'MCK': ('block', 1503406),\n",
       "  'MEW': ('block', 1503322),\n",
       "  'MEX': ('block', 1503434),\n",
       "  'MGL': ('block', 1503402),\n",
       "  'MOD': ('block', 1503122),\n",
       "  'MOL': ('block', 1503162),\n",
       "  'MON': ('block', 1503166),\n",
       "  'MOR': ('block', 1503202),\n",
       "  'NAG': ('block', 1503326),\n",
       "  'NEJ': ('block', 1503246),\n",
       "  'NEP': ('block', 1503330),\n",
       "  'NET': ('block', 1503086),\n",
       "  'NGF': ('block', 1503110),\n",
       "  'OMA': ('block', 1503250),\n",
       "  'ORA': ('block', 1503206),\n",
       "  'ORI': ('block', 1503334),\n",
       "  'PAN': ('block', 1503338),\n",
       "  'PAP': ('block', 1503126),\n",
       "  'PAR': ('block', 1503130),\n",
       "  'PER': ('block', 1503254),\n",
       "  'PEU': ('block', 1503466),\n",
       "  'POR': ('block', 1503090),\n",
       "  'PRG': ('block', 1503470),\n",
       "  'RUS': ('block', 1503054),\n",
       "  'SAR': ('block', 1503134),\n",
       "  'SER': ('block', 1503170),\n",
       "  'SIA': ('block', 1503394),\n",
       "  'SIC': ('block', 1503138),\n",
       "  'SIK': ('block', 1503342),\n",
       "  'SIN': ('block', 1503346),\n",
       "  'SOK': ('block', 1503210),\n",
       "  'SPA': ('block', 1503094),\n",
       "  'SWE': ('block', 1503078),\n",
       "  'SWI': ('block', 1503150),\n",
       "  'TIB': ('block', 1503398),\n",
       "  'TRA': ('block', 1503350),\n",
       "  'TRN': ('block', 1503214),\n",
       "  'TUN': ('block', 1503218),\n",
       "  'TUR': ('block', 1503174),\n",
       "  'TUS': ('block', 1503142),\n",
       "  'UCA': ('block', 1503438),\n",
       "  'URU': ('block', 1503474),\n",
       "  'USA': ('block', 1503066),\n",
       "  'VNZ': ('block', 1503478),\n",
       "  'WAL': ('block', 1503178),\n",
       "  'WUR': ('block', 1503114),\n",
       "  'XBI': ('block', 1503418),\n",
       "  'XIN': ('block', 1503422),\n",
       "  'YEM': ('block', 1503258),\n",
       "  'YNN': ('block', 1503414),\n",
       "  '_index': 1502492,\n",
       "  'active_inventions': ('block', 1503482),\n",
       "  'active_party': 1032,\n",
       "  'actual_sold_domestic': {'cattle': 4.51056,\n",
       "   'clipper_convoy': 0.04373,\n",
       "   'coal': 9.70914,\n",
       "   'coffee': 2.23734,\n",
       "   'cotton': 0.91031,\n",
       "   'explosives': 0.02274,\n",
       "   'fabric': 7.25708,\n",
       "   'fertilizer': 0.40433,\n",
       "   'fish': 6.01416,\n",
       "   'fruit': 10.79108,\n",
       "   'furniture': 2.8718,\n",
       "   'glass': 11.45749,\n",
       "   'grain': 23.07346,\n",
       "   'liquor': 4.66708,\n",
       "   'lumber': 1.86584,\n",
       "   'luxury_clothes': 1.10373,\n",
       "   'luxury_furniture': 1.10373,\n",
       "   'paper': 1.76901,\n",
       "   'regular_clothes': 3.26044,\n",
       "   'silk': 2.06052,\n",
       "   'small_arms': 0.03955,\n",
       "   'steamer_convoy': 0.00677,\n",
       "   'sulphur': 1.6496,\n",
       "   'tea': 5.12961,\n",
       "   'timber': 21.35284,\n",
       "   'tobacco': 1.32629,\n",
       "   'tropical_wood': 1.30508,\n",
       "   'wine': 10.60971,\n",
       "   'wool': 0.75192},\n",
       "  'admin_reform': 'no_admin_reform',\n",
       "  'ai': ('block', 1503500),\n",
       "  'ai_hard_strategy': ('block', 1503492),\n",
       "  'army': ('block', 1502896),\n",
       "  'army_schools': 'no_army_schools',\n",
       "  'auto_assign_leaders': 'yes',\n",
       "  'auto_create_leaders': 'yes',\n",
       "  'badboy': 0.0,\n",
       "  'bank': {'money': 1179.84497, 'money_lent': 0.0},\n",
       "  'buy_domestic': ('block', 1503664),\n",
       "  'capital': 1948,\n",
       "  'civilized': 'no',\n",
       "  'crime_fighting': ('block', 1502616),\n",
       "  'culture': ('block', 1503645),\n",
       "  'diplomatic_points': 9.0,\n",
       "  'domestic_demand_pool': {'ammunition': 1.84247,\n",
       "   'cattle': 4.6944,\n",
       "   'clipper_convoy': 3.52209,\n",
       "   'coal': 15.25092,\n",
       "   'coffee': 49.414,\n",
       "   'cotton': 2.06198,\n",
       "   'dye': 0.17432,\n",
       "   'explosives': 0.10962,\n",
       "   'fabric': 7.25708,\n",
       "   'fertilizer': 2.58881,\n",
       "   'fish': 6.25934,\n",
       "   'fruit': 11.03625,\n",
       "   'furniture': 265.43842,\n",
       "   'glass': 11.60138,\n",
       "   'grain': 23.68597,\n",
       "   'liquor': 147.73184,\n",
       "   'lumber': 1.86584,\n",
       "   'luxury_clothes': 5.47726,\n",
       "   'luxury_furniture': 5.47726,\n",
       "   'opium': 22.73553,\n",
       "   'paper': 88.86966,\n",
       "   'regular_clothes': 266.52179,\n",
       "   'silk': 2.06052,\n",
       "   'small_arms': 1.81802,\n",
       "   'steamer_convoy': 3.52209,\n",
       "   'sulphur': 1.6496,\n",
       "   'tea': 25.0625,\n",
       "   'timber': 22.0856,\n",
       "   'tobacco': 83.79587,\n",
       "   'tropical_wood': 1.30508,\n",
       "   'wine': 52.42462,\n",
       "   'wool': 6.58548},\n",
       "  'domestic_supply_pool': {'ammunition': 0.69955,\n",
       "   'artillery': 2.59177,\n",
       "   'canned_food': 2.65057,\n",
       "   'cattle': 44.966,\n",
       "   'cement': 9.38596,\n",
       "   'clipper_convoy': 24.62292,\n",
       "   'coal': 137.18942,\n",
       "   'coffee': 6.45001,\n",
       "   'cotton': 76.99985,\n",
       "   'explosives': 2.2215,\n",
       "   'fabric': 326.97311,\n",
       "   'fertilizer': 15.15939,\n",
       "   'fish': 90.17657,\n",
       "   'fruit': 24.57755,\n",
       "   'furniture': 46.5817,\n",
       "   'glass': 275.81046,\n",
       "   'grain': 334.92636,\n",
       "   'iron': 63.53735,\n",
       "   'liquor': 181.55194,\n",
       "   'lumber': 63.73535,\n",
       "   'luxury_clothes': 4.06299,\n",
       "   'luxury_furniture': 1.56757,\n",
       "   'machine_parts': 0.3299,\n",
       "   'paper': 35.17252,\n",
       "   'precious_metal': 18.23425,\n",
       "   'regular_clothes': 37.41141,\n",
       "   'silk': 3.84805,\n",
       "   'small_arms': 0.84933,\n",
       "   'steamer_convoy': 0.54034,\n",
       "   'steel': 42.64526,\n",
       "   'sulphur': 4.35229,\n",
       "   'tea': 66.35794,\n",
       "   'timber': 408.38379,\n",
       "   'tobacco': 91.83487,\n",
       "   'tropical_wood': 3.75046,\n",
       "   'wine': 22.97501,\n",
       "   'wool': 3e-05},\n",
       "  'education_reform': 'no_education_reform',\n",
       "  'education_spending': ('block', 1502604),\n",
       "  'expenses': ('block', 1504166),\n",
       "  'finance_reform': 'no_finance_reform',\n",
       "  'flags': ('block', 1502495),\n",
       "  'foreign_naval_officers': 'no_foreign_naval_officers',\n",
       "  'foreign_navies': 'no_foreign_navies',\n",
       "  'foreign_officers': 'no_foreign_officers',\n",
       "  'foreign_training': 'yes_foreign_training',\n",
       "  'foreign_weapons': 'yes_foreign_weapons',\n",
       "  'government': 'absolute_monarchy',\n",
       "  'government_flag': ('block', 1503488),\n",
       "  'health_care': 'no_health_care',\n",
       "  'id': 'SOK',\n",
       "  'illegal_inventions': ('block', 1503485),\n",
       "  'incomes': ('block', 1504169),\n",
       "  'industrial_construction': 'no_industrial_construction',\n",
       "  'is_releasable_vassal': 'yes',\n",
       "  'land_reform': 'no_land_reform',\n",
       "  'land_supply_cost': ('block', 1502550),\n",
       "  'last_bankrupt': '\"1.1.1\"',\n",
       "  'last_election': '\"1836.1.1\"',\n",
       "  'last_mission_cancel': '\"1.1.1\"',\n",
       "  'last_reform': '\"1851.7.11\"',\n",
       "  'leader': ('block',\n",
       "   [1502656,\n",
       "    1502672,\n",
       "    1502688,\n",
       "    1502704,\n",
       "    1502720,\n",
       "    1502736,\n",
       "    1502752,\n",
       "    1502768,\n",
       "    1502784,\n",
       "    1502800,\n",
       "    1502816,\n",
       "    1502832,\n",
       "    1502848,\n",
       "    1502864,\n",
       "    1502880]),\n",
       "  'leadership': 9.84302,\n",
       "  'max_bought': {'wool': 0.32614},\n",
       "  'max_tariff': 4.91507,\n",
       "  'middle_tax': ('block', 1502574),\n",
       "  'military_constructions': 'no_military_constructions',\n",
       "  'military_spending': ('block', 1502640),\n",
       "  'money': 892.70346,\n",
       "  'national_focus': ('block', 1504162),\n",
       "  'nationalvalue': '\"nv_order\"',\n",
       "  'naval_schools': 'no_naval_schools',\n",
       "  'next_quarterly_pulse': '\"1854.2.14\"',\n",
       "  'next_yearly_pulse': '\"1854.7.24\"',\n",
       "  'overseas_penalty': 0.0,\n",
       "  'pensions': 'no_pensions',\n",
       "  'plurality': 1.284,\n",
       "  'political_parties': 'underground_parties',\n",
       "  'poor_tax': ('block', 1502589),\n",
       "  'pop_size': 1492192,\n",
       "  'pre_indust': 'no_pre_indust',\n",
       "  'press_rights': 'state_press',\n",
       "  'prestige': 4.0,\n",
       "  'primary_culture': '\"hausa\"',\n",
       "  'public_meetings': 'no_meeting',\n",
       "  'religion': '\"sunni\"',\n",
       "  'research_points': 2632.841,\n",
       "  'revanchism': 0.0,\n",
       "  'rich_tax': ('block', 1502559),\n",
       "  'ruling_party': 1030,\n",
       "  'safety_regulations': 'no_safety',\n",
       "  'saved_country_supply': {'cattle': 24.08102,\n",
       "   'cement': 0.24399,\n",
       "   'coal': 5.29443,\n",
       "   'cotton': 0.91516,\n",
       "   'fabric': 2.27692,\n",
       "   'fertilizer': 1.37466,\n",
       "   'fruit': 16.63446,\n",
       "   'furniture': 1.11951,\n",
       "   'glass': 9.66302,\n",
       "   'grain': 19.14096,\n",
       "   'liquor': 8.03772,\n",
       "   'luxury_clothes': 0.52835,\n",
       "   'luxury_furniture': 0.19135,\n",
       "   'paper': 7.7948,\n",
       "   'regular_clothes': 2.72095,\n",
       "   'wine': 3.34384},\n",
       "  'school_reforms': 'no_schools',\n",
       "  'schools': '\"traditional_academic\"',\n",
       "  'slavery': 'yes_slavery',\n",
       "  'social_spending': ('block', 1502628),\n",
       "  'sold_supply_pool': ('block', 1504069),\n",
       "  'state': ['994', '995', '996', '997', '998'],\n",
       "  'stockpile': ('block', 1503659),\n",
       "  'suppression': 48.886,\n",
       "  'tax_base': 54.89279,\n",
       "  'technology': ('block', 1502504),\n",
       "  'trade': ('block', 1503667),\n",
       "  'trade_cap_land': 0.29999,\n",
       "  'trade_cap_naval': 0.35001,\n",
       "  'trade_cap_projects': 0.75,\n",
       "  'trade_unions': 'no_trade_unions',\n",
       "  'transport_improv': 'no_transport_improv',\n",
       "  'unemployment_subsidies': 'no_subsidies',\n",
       "  'upper_house': ('block', 1502540),\n",
       "  'upper_house_composition': 'appointed',\n",
       "  'variables': ('block', 1502499),\n",
       "  'vote_franschise': 'none_voting',\n",
       "  'voting_system': 'jefferson_method',\n",
       "  'wage_reform': 'no_minimum_wage',\n",
       "  'work_hours': 'no_work_hour_limit'})"
      ]
     },
     "execution_count": 8,
     "metadata": {},
     "output_type": "execute_result"
    }
   ],
   "source": [
    "list(rd['country'].items())[0]"
   ]
  },
  {
   "cell_type": "code",
   "execution_count": 9,
   "metadata": {
    "collapsed": false
   },
   "outputs": [
    {
     "data": {
      "text/plain": [
       "('1072',\n",
       " {'_index': 1601852,\n",
       "  'country': 'CHI',\n",
       "  'id': '1072',\n",
       "  'provinces': ['1476', '1477', '1536', '1542', '1543', '2221'],\n",
       "  'type': '47'})"
      ]
     },
     "execution_count": 9,
     "metadata": {},
     "output_type": "execute_result"
    }
   ],
   "source": [
    "list(rd['state'].items())[0]"
   ]
  },
  {
   "cell_type": "code",
   "execution_count": 10,
   "metadata": {
    "collapsed": false
   },
   "outputs": [
    {
     "data": {
      "text/plain": [
       "(2,\n",
       " {'_index': 616421,\n",
       "  'bank': 2211021.20667,\n",
       "  'con': 0.29321,\n",
       "  'con_factor': 0.00769,\n",
       "  'country': 'AFG',\n",
       "  'demoted': 1,\n",
       "  'everyday_needs': 0.65515,\n",
       "  'id': 2,\n",
       "  'ideology': ('block', 616427),\n",
       "  'issues': ('block', 616433),\n",
       "  'life_needs': 0.83997,\n",
       "  'literacy': 0.21286,\n",
       "  'money': 8195.09048,\n",
       "  'nation': 'pashtun',\n",
       "  'promoted': 1,\n",
       "  'province': '1217',\n",
       "  'random': 312,\n",
       "  'religion': 'sunni',\n",
       "  'size': 1474,\n",
       "  'type': 'bureaucrats'})"
      ]
     },
     "execution_count": 10,
     "metadata": {},
     "output_type": "execute_result"
    }
   ],
   "source": [
    "list(rd['pop'].items())[0]"
   ]
  },
  {
   "cell_type": "markdown",
   "metadata": {},
   "source": [
    "# analyse.py"
   ]
  },
  {
   "cell_type": "code",
   "execution_count": 13,
   "metadata": {
    "collapsed": false
   },
   "outputs": [
    {
     "data": {
      "text/plain": [
       "{'date': ('1836', '01', '02'),\n",
       " 'path': '../Victoria 2/save games/Korea1836_01_02.v2'}"
      ]
     },
     "execution_count": 13,
     "metadata": {},
     "output_type": "execute_result"
    }
   ],
   "source": [
    "from script.analyse import *\n",
    "%matplotlib inline\n",
    "\n",
    "root='../Victoria 2/save games' # You need a new Vic2 save game folder to run it\n",
    "al=sample(root)\n",
    "\n",
    "al[0]"
   ]
  },
  {
   "cell_type": "code",
   "execution_count": 16,
   "metadata": {
    "collapsed": false
   },
   "outputs": [
    {
     "data": {
      "text/plain": [
       "{'date': ('1836', '01', '02'),\n",
       " 'main_number': {'religion': {'animist': 4942,\n",
       "   'catholic': 5163,\n",
       "   'coptic': 115,\n",
       "   'gelugpa': 213,\n",
       "   'hindu': 597,\n",
       "   'jewish': 566,\n",
       "   'mahayana': 1904,\n",
       "   'orthodox': 1885,\n",
       "   'protestant': 2830,\n",
       "   'shiite': 427,\n",
       "   'shinto': 164,\n",
       "   'sikh': 45,\n",
       "   'sunni': 4271,\n",
       "   'theravada': 311},\n",
       "  'type': {'aristocrats': 1527,\n",
       "   'artisans': 6041,\n",
       "   'bureaucrats': 616,\n",
       "   'capitalists': 24,\n",
       "   'clergymen': 4446,\n",
       "   'clerks': 38,\n",
       "   'craftsmen': 59,\n",
       "   'farmers': 4048,\n",
       "   'labourers': 1253,\n",
       "   'officers': 703,\n",
       "   'slaves': 371,\n",
       "   'soldiers': 4307}},\n",
       " 'pop_number': 23433,\n",
       " 'sum': {'religion': {'animist': {'literacy': 1332881.452760015,\n",
       "    'money': 5068190.634149978,\n",
       "    'size': 16879990.0},\n",
       "   'catholic': {'literacy': 11860798.31699994,\n",
       "    'money': 31868162.9774601,\n",
       "    'size': 38318181.0},\n",
       "   'coptic': {'literacy': 53702.01477000001,\n",
       "    'money': 326365.89084000007,\n",
       "    'size': 788187.0},\n",
       "   'gelugpa': {'literacy': 56743.58067000001,\n",
       "    'money': 1591937.06319,\n",
       "    'size': 2892884.0},\n",
       "   'hindu': {'literacy': 2348148.3054799996,\n",
       "    'money': 13837945.262520019,\n",
       "    'size': 27785464.0},\n",
       "   'jewish': {'literacy': 123836.11299999984,\n",
       "    'money': 2336836.953030001,\n",
       "    'size': 898565.0},\n",
       "   'mahayana': {'literacy': 5679033.617020006,\n",
       "    'money': 56853552.60314005,\n",
       "    'size': 102989746.0},\n",
       "   'orthodox': {'literacy': 1640384.1341000015,\n",
       "    'money': 8771602.762080008,\n",
       "    'size': 16154879.0},\n",
       "   'protestant': {'literacy': 9626929.18669,\n",
       "    'money': 13984702.223469993,\n",
       "    'size': 17579928.0},\n",
       "   'shiite': {'literacy': 131979.19939999978,\n",
       "    'money': 1475334.47661,\n",
       "    'size': 1666990.0},\n",
       "   'shinto': {'literacy': 667077.4696500003,\n",
       "    'money': 1027019.6832300001,\n",
       "    'size': 1667698.0},\n",
       "   'sikh': {'literacy': 10063.30228,\n",
       "    'money': 216980.69763000004,\n",
       "    'size': 299248.0},\n",
       "   'sunni': {'literacy': 1854350.356249999,\n",
       "    'money': 15131084.305299968,\n",
       "    'size': 24416692.0},\n",
       "   'theravada': {'literacy': 118355.22891999998,\n",
       "    'money': 1604846.37819,\n",
       "    'size': 2443099.0}},\n",
       "  'sum': {'literacy': 35504282.27798995,\n",
       "   'money': 154094561.9108406,\n",
       "   'size': 254781551.0},\n",
       "  'type': {'aristocrats': {'literacy': 470441.0449299992,\n",
       "    'money': 16431938.37961999,\n",
       "    'size': 4086204.0},\n",
       "   'artisans': {'literacy': 2983709.223500004,\n",
       "    'money': 91671255.8093906,\n",
       "    'size': 16949761.0},\n",
       "   'bureaucrats': {'literacy': 77776.28812999999,\n",
       "    'money': 409088.46617000015,\n",
       "    'size': 339359.0},\n",
       "   'capitalists': {'literacy': 4021.96147,\n",
       "    'money': 88938.40440999999,\n",
       "    'size': 7233.0},\n",
       "   'clergymen': {'literacy': 338256.54702999996,\n",
       "    'money': 723524.159259999,\n",
       "    'size': 2533094.0},\n",
       "   'clerks': {'literacy': 11404.92555,\n",
       "    'money': 742.8274499999999,\n",
       "    'size': 20227.0},\n",
       "   'craftsmen': {'literacy': 179772.09801,\n",
       "    'money': 5718.86858,\n",
       "    'size': 334944.0},\n",
       "   'farmers': {'literacy': 22014300.22990995,\n",
       "    'money': 32086336.548840012,\n",
       "    'size': 170736886.0},\n",
       "   'labourers': {'literacy': 8536293.661859997,\n",
       "    'money': 12052782.050119994,\n",
       "    'size': 53382215.0},\n",
       "   'officers': {'literacy': 37509.51171999993,\n",
       "    'money': 276821.4062300003,\n",
       "    'size': 224059.0},\n",
       "   'slaves': {'literacy': 263935.6124500001, 'money': 0.0, 'size': 2619515.0},\n",
       "   'soldiers': {'literacy': 586861.1734300009,\n",
       "    'money': 347414.99077000265,\n",
       "    'size': 3548054.0}}}}"
      ]
     },
     "execution_count": 16,
     "metadata": {},
     "output_type": "execute_result"
    }
   ],
   "source": [
    "%%time\n",
    "seq=extract(al,progress=False) # It will cost a long time to run it. 15min+\n",
    "seq[0]"
   ]
  },
  {
   "cell_type": "code",
   "execution_count": 17,
   "metadata": {
    "collapsed": false
   },
   "outputs": [
    {
     "data": {
      "image/png": "[encoded data removed]",
      "text/plain": [
       "<matplotlib.figure.Figure at 0x802f400>"
      ]
     },
     "metadata": {},
     "output_type": "display_data"
    }
   ],
   "source": [
    "report_par(seq,'type',['farmers','labourers','craftsmen','clerks'],'money','size')\n",
    "# This is average money for four job type as time series"
   ]
  },
  {
   "cell_type": "code",
   "execution_count": 18,
   "metadata": {
    "collapsed": false
   },
   "outputs": [
    {
     "data": {
      "image/png": "[encoded data removed]",
      "text/plain": [
       "<matplotlib.figure.Figure at 0x802f438>"
      ]
     },
     "metadata": {},
     "output_type": "display_data"
    }
   ],
   "source": [
    "report_par(seq,'religion',['protestant','catholic','orthodox'],'money','size')"
   ]
  },
  {
   "cell_type": "code",
   "execution_count": 21,
   "metadata": {
    "collapsed": true
   },
   "outputs": [],
   "source": [
    "# reload is to slow, I rewrite the function in here\n",
    "def percent_flow(seq,main_key,detail=None,loc=2):\n",
    "    sub_keys=seq[0]['sum'][main_key].keys()\n",
    "    d={sk:T(seq,main_key,sk,'size') for sk in sub_keys}\n",
    "    ds=np.array([sum([sl[i] for sl in d.values()]) for i in range(len(list(d.values())[0]))])\n",
    "    axis=[int(record['date'][0]) for record in seq]\n",
    "    if detail==None:\n",
    "        for key,value in d.items():\n",
    "            y=np.array(value)/ds\n",
    "            plt.plot(axis,y,label=key)\n",
    "    else:\n",
    "        for dd in detail:\n",
    "            y=np.array(d[dd])/ds\n",
    "            plt.plot(axis,y,label=dd)\n",
    "    plt.legend(loc=loc)\n",
    "    plt.show()\n",
    "\n"
   ]
  },
  {
   "cell_type": "code",
   "execution_count": 22,
   "metadata": {
    "collapsed": false
   },
   "outputs": [
    {
     "data": {
      "image/png": "[encoded data removed]",
      "text/plain": [
       "<matplotlib.figure.Figure at 0x2e122550>"
      ]
     },
     "metadata": {},
     "output_type": "display_data"
    }
   ],
   "source": [
    "percent_flow(seq,'religion',detail=['protestant','catholic','orthodox'],loc=0)\n",
    "# It display the percent change flow for Christianity"
   ]
  },
  {
   "cell_type": "code",
   "execution_count": 23,
   "metadata": {
    "collapsed": false
   },
   "outputs": [
    {
     "data": {
      "image/png": "[encoded data removed]",
      "text/plain": [
       "<matplotlib.figure.Figure at 0x2084de10>"
      ]
     },
     "metadata": {},
     "output_type": "display_data"
    }
   ],
   "source": [
    "axis=[int(record['date'][0]) for record in seq]\n",
    "pop_nl=[record['pop_number'] for record in seq]\n",
    "plt.plot(axis,pop_nl)\n",
    "plt.show()"
   ]
  },
  {
   "cell_type": "markdown",
   "metadata": {},
   "source": [
    "The pop number does not explosion growth. Paradox good job!"
   ]
  },
  {
   "cell_type": "code",
   "execution_count": null,
   "metadata": {
    "collapsed": true
   },
   "outputs": [],
   "source": []
  }
 ],
 "metadata": {
  "anaconda-cloud": {},
  "kernelspec": {
   "display_name": "Python [Root]",
   "language": "python",
   "name": "Python [Root]"
  },
  "language_info": {
   "codemirror_mode": {
    "name": "ipython",
    "version": 3
   },
   "file_extension": ".py",
   "mimetype": "text/x-python",
   "name": "python",
   "nbconvert_exporter": "python",
   "pygments_lexer": "ipython3",
   "version": "3.5.2"
  }
 },
 "nbformat": 4,
 "nbformat_minor": 0
}
